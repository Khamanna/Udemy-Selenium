{
 "cells": [
  {
   "cell_type": "code",
   "execution_count": 72,
   "metadata": {},
   "outputs": [],
   "source": [
    "from selenium import webdriver\n",
    "from selenium.webdriver.common.by import By\n",
    "from selenium.webdriver.support.ui import WebDriverWait\n",
    "from selenium.webdriver.support import expected_conditions as EC\n",
    "from selenium.webdriver.common.keys import Keys\n",
    "from selenium.webdriver.common.action_chains import ActionChains\n",
    "from webdriver_manager.chrome import ChromeDriverManager\n",
    "import csv\n",
    "import re\n",
    "import time"
   ]
  },
  {
   "cell_type": "code",
   "execution_count": 73,
   "metadata": {},
   "outputs": [
    {
     "name": "stderr",
     "output_type": "stream",
     "text": [
      "[WDM] - Current google-chrome version is 86.0.4240\n",
      "[WDM] - Get LATEST driver version for 86.0.4240\n",
      "[WDM] - Driver [/Users/ki/.wdm/drivers/chromedriver/mac64/86.0.4240.22/chromedriver] found in cache\n"
     ]
    },
    {
     "name": "stdout",
     "output_type": "stream",
     "text": [
      " \n"
     ]
    }
   ],
   "source": [
    "driver = webdriver.Chrome(ChromeDriverManager().install())\n",
    "\n",
    "# define the webpage\n",
    "driver.get('https://www.udemy.com/courses/search/?courseLabel=7892&lang=en&q=probability+and+statistics&sort=relevance&src=sac')\n",
    "\n",
    "time.sleep(2)"
   ]
  },
  {
   "cell_type": "code",
   "execution_count": 74,
   "metadata": {},
   "outputs": [
    {
     "name": "stderr",
     "output_type": "stream",
     "text": [
      "[WDM] - Current google-chrome version is 86.0.4240\n",
      "[WDM] - Get LATEST driver version for 86.0.4240\n",
      "[WDM] - Driver [/Users/ki/.wdm/drivers/chromedriver/mac64/86.0.4240.22/chromedriver] found in cache\n"
     ]
    },
    {
     "name": "stdout",
     "output_type": "stream",
     "text": [
      " \n"
     ]
    },
    {
     "ename": "IndexError",
     "evalue": "list index out of range",
     "output_type": "error",
     "traceback": [
      "\u001b[0;31m---------------------------------------------------------------------------\u001b[0m",
      "\u001b[0;31mIndexError\u001b[0m                                Traceback (most recent call last)",
      "\u001b[0;32m<ipython-input-74-4cbb04f80e13>\u001b[0m in \u001b[0;36m<module>\u001b[0;34m\u001b[0m\n\u001b[1;32m     27\u001b[0m         \u001b[0mnum_page_items\u001b[0m\u001b[0;34m=\u001b[0m\u001b[0mlen\u001b[0m\u001b[0;34m(\u001b[0m\u001b[0mcourses\u001b[0m\u001b[0;34m)\u001b[0m\u001b[0;34m\u001b[0m\u001b[0;34m\u001b[0m\u001b[0m\n\u001b[1;32m     28\u001b[0m         \u001b[0;32mfor\u001b[0m \u001b[0melement\u001b[0m \u001b[0;32min\u001b[0m \u001b[0mrange\u001b[0m\u001b[0;34m(\u001b[0m\u001b[0mnum_page_items\u001b[0m\u001b[0;34m)\u001b[0m\u001b[0;34m:\u001b[0m\u001b[0;34m\u001b[0m\u001b[0;34m\u001b[0m\u001b[0m\n\u001b[0;32m---> 29\u001b[0;31m             \u001b[0mf\u001b[0m\u001b[0;34m.\u001b[0m\u001b[0mwrite\u001b[0m\u001b[0;34m(\u001b[0m\u001b[0mcourses\u001b[0m\u001b[0;34m[\u001b[0m\u001b[0melement\u001b[0m\u001b[0;34m]\u001b[0m\u001b[0;34m.\u001b[0m\u001b[0mtext\u001b[0m\u001b[0;34m.\u001b[0m\u001b[0mreplace\u001b[0m\u001b[0;34m(\u001b[0m\u001b[0;34m','\u001b[0m\u001b[0;34m,\u001b[0m\u001b[0;34m''\u001b[0m\u001b[0;34m)\u001b[0m \u001b[0;34m+\u001b[0m \u001b[0;34m\",\"\u001b[0m \u001b[0;34m+\u001b[0m \u001b[0minstructor\u001b[0m\u001b[0;34m[\u001b[0m\u001b[0melement\u001b[0m\u001b[0;34m]\u001b[0m\u001b[0;34m.\u001b[0m\u001b[0mtext\u001b[0m\u001b[0;34m.\u001b[0m\u001b[0mreplace\u001b[0m\u001b[0;34m(\u001b[0m\u001b[0;34m','\u001b[0m\u001b[0;34m,\u001b[0m\u001b[0;34m''\u001b[0m\u001b[0;34m)\u001b[0m \u001b[0;34m+\u001b[0m \u001b[0;34m\",\"\u001b[0m \u001b[0;34m+\u001b[0m \u001b[0mprice\u001b[0m\u001b[0;34m[\u001b[0m\u001b[0melement\u001b[0m\u001b[0;34m]\u001b[0m\u001b[0;34m.\u001b[0m\u001b[0mtext\u001b[0m\u001b[0;34m[\u001b[0m\u001b[0;36m1\u001b[0m\u001b[0;34m:\u001b[0m\u001b[0;34m]\u001b[0m \u001b[0;34m+\u001b[0m \u001b[0;34m\",\"\u001b[0m \u001b[0;34m+\u001b[0m \u001b[0mrating\u001b[0m\u001b[0;34m[\u001b[0m\u001b[0melement\u001b[0m\u001b[0;34m]\u001b[0m\u001b[0;34m.\u001b[0m\u001b[0mtext\u001b[0m \u001b[0;34m+\u001b[0m \u001b[0;34m\",\"\u001b[0m \u001b[0;34m+\u001b[0m \u001b[0mnum_voters\u001b[0m\u001b[0;34m[\u001b[0m\u001b[0melement\u001b[0m\u001b[0;34m]\u001b[0m\u001b[0;34m.\u001b[0m\u001b[0mtext\u001b[0m\u001b[0;34m.\u001b[0m\u001b[0mreplace\u001b[0m\u001b[0;34m(\u001b[0m\u001b[0;34m','\u001b[0m\u001b[0;34m,\u001b[0m\u001b[0;34m''\u001b[0m\u001b[0;34m)\u001b[0m \u001b[0;34m+\u001b[0m \u001b[0;34m\"\\n\"\u001b[0m\u001b[0;34m)\u001b[0m\u001b[0;34m\u001b[0m\u001b[0;34m\u001b[0m\u001b[0m\n\u001b[0m\u001b[1;32m     30\u001b[0m \u001b[0;34m\u001b[0m\u001b[0m\n\u001b[1;32m     31\u001b[0m \u001b[0mdriver\u001b[0m\u001b[0;34m.\u001b[0m\u001b[0mclose\u001b[0m\u001b[0;34m(\u001b[0m\u001b[0;34m)\u001b[0m\u001b[0;34m\u001b[0m\u001b[0;34m\u001b[0m\u001b[0m\n",
      "\u001b[0;31mIndexError\u001b[0m: list index out of range"
     ]
    }
   ],
   "source": [
    "from selenium import webdriver\n",
    "from selenium.webdriver.common.action_chains import ActionChains\n",
    "import time\n",
    "import csv\n",
    "\n",
    "driver = webdriver.Chrome(ChromeDriverManager().install())\n",
    "\n",
    "max_page = 7\n",
    "\n",
    "with open('udemy.csv', 'w') as f:\n",
    "    f.write(\"courses, instructor, price, rating, num_voters \\n\")\n",
    "\n",
    "    for i in range(1, max_page +1):\n",
    "        page = str(i)\n",
    "        url = \"https://www.udemy.com/courses/search/?courseLabel=7892&lang=en&p=\"+ page +\"&q=probability+and+statistics&sort=relevance&src=sac\"\n",
    "        #print(url)\n",
    "        driver.get(url)\n",
    "\n",
    "        time.sleep(2)\n",
    "\n",
    "        courses=driver.find_elements_by_xpath('//div[@class=\"udlite-focus-visible-target udlite-heading-md course-card--course-title--2f7tE\"]')   \n",
    "        instructor=driver.find_elements_by_xpath('//div[@class=\"udlite-text-xs course-card--instructor-list--lIA4f\"]')\n",
    "        price=driver.find_elements_by_xpath('//div[@class=\"price-text--price-part--Tu6MH course-card--discount-price--3TaBk udlite-heading-md\"]/span[2]/span')\n",
    "        rating=driver.find_elements_by_xpath('//span[@class=\"udlite-heading-sm star-rating--rating-number--3lVe8\"]') \n",
    "        num_voters=driver.find_elements_by_xpath('//span[@class=\"udlite-text-xs course-card--reviews-text--12UpL\"]')\n",
    "       \n",
    "        num_page_items=len(courses)\n",
    "        for element in range(num_page_items):\n",
    "            f.write(courses[element].text.replace(',','') + \",\" + instructor[element].text.replace(',','') + \",\" + price[element].text[1:] + \",\" + rating[element].text + \",\" + num_voters[element].text.replace(',','') + \"\\n\")\n",
    "\n",
    "driver.close()"
   ]
  },
  {
   "cell_type": "code",
   "execution_count": null,
   "metadata": {},
   "outputs": [],
   "source": [
    "from selenium import webdriver\n",
    "from selenium.webdriver.common.action_chains import ActionChains\n",
    "import time\n",
    "import csv\n",
    "\n",
    "driver = webdriver.Chrome(ChromeDriverManager().install())\n",
    "driver.get('https://www.udemy.com/courses/search/?courseLabel=5336&lang=en&q=r+&sort=relevance&src=ukw')\n",
    "\n",
    "max_page = 11\n",
    "\n",
    "with open('udemy_r.csv', 'w') as f:\n",
    "    f.write(\"courses, instructor, price, rating, num_voters \\n\")\n",
    "\n",
    "    for i in range(1, max_page +1):\n",
    "        page = str(i)\n",
    "        url = \"https://www.udemy.com/courses/search/?courseLabel=7432&lang=en&p=\"+ page +\"&q=r+programming&sort=relevance&src=ukw\"\n",
    "        #print(url)\n",
    "        driver.get(url)\n",
    "\n",
    "        time.sleep(2)\n",
    "\n",
    "        courses=driver.find_elements_by_xpath('//div[@class=\"udlite-focus-visible-target udlite-heading-md course-card--course-title--2f7tE\"]')   \n",
    "        instructor=driver.find_elements_by_xpath('//div[@class=\"udlite-text-xs course-card--instructor-list--lIA4f\"]')\n",
    "        price=driver.find_elements_by_xpath('//div[@class=\"price-text--price-part--Tu6MH course-card--discount-price--3TaBk udlite-heading-md\"]/span[2]/span')\n",
    "        rating=driver.find_elements_by_xpath('//span[@class=\"udlite-heading-sm star-rating--rating-number--3lVe8\"]') \n",
    "        num_voters=driver.find_elements_by_xpath('//span[@class=\"udlite-text-xs course-card--reviews-text--12UpL\"]')\n",
    "       \n",
    "        num_page_items=len(courses)\n",
    "        for element in range(num_page_items):\n",
    "            f.write(courses[element].text.replace(',','') + \",\" + instructor[element].text.replace(',','') + \",\" + price[element].text[1:] + \",\" + rating[element].text + \",\" + num_voters[element].text.replace(',','') + \"\\n\")\n",
    "\n",
    "driver.close()"
   ]
  },
  {
   "cell_type": "code",
   "execution_count": null,
   "metadata": {},
   "outputs": [],
   "source": [
    " \n",
    "from selenium import webdriver\n",
    "from selenium.webdriver.common.action_chains import ActionChains\n",
    "import time\n",
    "import csv\n",
    "\n",
    "driver = webdriver.Chrome(ChromeDriverManager().install())\n",
    "driver.get('https://www.udemy.com/courses/search/?courseLabel=5336&lang=en&q=r+&sort=relevance&src=ukw')\n",
    "\n",
    "max_page = 6\n",
    "\n",
    "with open('UdemyR_1.csv', 'w') as f:\n",
    "    f.write(\"courses, instructor, price, rating, num_voters \\n\")\n",
    "\n",
    "    for i in range(5, max_page +1):\n",
    "        page = str(i)\n",
    "        url = \"https://www.udemy.com/courses/search/?courseLabel=7432&lang=en&p=\"+ page +\"&q=r+programming&sort=relevance&src=ukw\"\n",
    "        #print(url)\n",
    "        driver.get(url)\n",
    "\n",
    "        time.sleep(2)\n",
    "\n",
    "        courses=driver.find_elements_by_xpath('//div[@class=\"udlite-focus-visible-target udlite-heading-md course-card--course-title--2f7tE\"]')   \n",
    "        instructor=driver.find_elements_by_xpath('//div[@class=\"udlite-text-xs course-card--instructor-list--lIA4f\"]')\n",
    "        price=driver.find_elements_by_xpath('//div[@class=\"price-text--price-part--Tu6MH course-card--discount-price--3TaBk udlite-heading-md\"]/span[2]/span')\n",
    "        rating=driver.find_elements_by_xpath('//span[@class=\"udlite-heading-sm star-rating--rating-number--3lVe8\"]') \n",
    "        num_voters=driver.find_elements_by_xpath('//span[@class=\"udlite-text-xs course-card--reviews-text--12UpL\"]')\n",
    "       \n",
    "        num_page_items=len(courses)\n",
    "        for element in range(num_page_items):\n",
    "            f.write(courses[element].text.replace(',','') + \",\" + instructor[element].text.replace(',','') + \",\" + price[element].text[1:] + \",\" + rating[element].text + \",\" + num_voters[element].text.replace(',','') + \"\\n\")\n",
    "\n",
    "driver.close()"
   ]
  },
  {
   "cell_type": "code",
   "execution_count": 136,
   "metadata": {},
   "outputs": [
    {
     "name": "stdout",
     "output_type": "stream",
     "text": [
      "$22.99\n",
      "$12.99\n",
      "$16.99\n",
      "$12.99\n",
      "$12.99\n",
      "$12.99\n",
      "$22.99\n",
      "$12.99\n",
      "$12.99\n",
      "$12.99\n",
      "$12.99\n",
      "$12.99\n",
      "$12.99\n",
      "$12.99\n",
      "$12.99\n",
      "$12.99\n",
      "$12.99\n",
      "$12.99\n",
      "$12.99\n",
      "$18.99\n",
      "$12.99\n",
      "$12.99\n",
      "$12.99\n"
     ]
    }
   ],
   "source": [
    "price=driver.find_elements_by_xpath('//div[@class=\"price-text--price-part--Tu6MH course-card--discount-price--3TaBk udlite-heading-md\"]/span[2]/span')  \n",
    "num_pages_items=len(price)\n",
    "for element in range(num_pages_items):\n",
    "    print(price[element].text)"
   ]
  },
  {
   "cell_type": "code",
   "execution_count": 143,
   "metadata": {},
   "outputs": [
    {
     "name": "stdout",
     "output_type": "stream",
     "text": [
      "4.6\n",
      "4.6\n",
      "4.4\n",
      "4.6\n",
      "4.3\n",
      "4.6\n",
      "4.6\n",
      "4.6\n",
      "4.6\n",
      "4.5\n",
      "3.9\n",
      "4.4\n",
      "4.6\n",
      "4.7\n",
      "4.5\n",
      "4.3\n",
      "4.2\n",
      "4.4\n",
      "3.9\n",
      "0.0\n",
      "4.2\n",
      "4.3\n",
      "5.0\n"
     ]
    }
   ],
   "source": [
    "rating=driver.find_elements_by_xpath('//span[@class=\"udlite-heading-sm star-rating--rating-number--3lVe8\"]')  \n",
    "num_pages_items=len(rating)\n",
    "for element in range(num_pages_items):\n",
    "    print(rating[element].text)"
   ]
  },
  {
   "cell_type": "code",
   "execution_count": 142,
   "metadata": {},
   "outputs": [
    {
     "name": "stdout",
     "output_type": "stream",
     "text": [
      "(5,669)\n",
      "(3,619)\n",
      "(3,471)\n",
      "(334)\n",
      "(125)\n",
      "(202)\n",
      "(5,669)\n",
      "(3,619)\n",
      "(334)\n",
      "(169)\n",
      "(10)\n",
      "(26)\n",
      "(24)\n",
      "(4)\n",
      "(53)\n",
      "(341)\n",
      "(21)\n",
      "(31)\n",
      "(57)\n",
      "(0)\n",
      "(84)\n",
      "(60)\n",
      "(1)\n"
     ]
    }
   ],
   "source": [
    "num_voters=driver.find_elements_by_xpath('//span[@class=\"udlite-text-xs course-card--reviews-text--12UpL\"]')  \n",
    "num_pages_items=len(num_voters)\n",
    "for element in range(num_pages_items):\n",
    "    print(num_voters[element].text)"
   ]
  },
  {
   "cell_type": "code",
   "execution_count": null,
   "metadata": {},
   "outputs": [],
   "source": []
  }
 ],
 "metadata": {
  "kernelspec": {
   "display_name": "Python 3",
   "language": "python",
   "name": "python3"
  },
  "language_info": {
   "codemirror_mode": {
    "name": "ipython",
    "version": 3
   },
   "file_extension": ".py",
   "mimetype": "text/x-python",
   "name": "python",
   "nbconvert_exporter": "python",
   "pygments_lexer": "ipython3",
   "version": "3.7.4"
  }
 },
 "nbformat": 4,
 "nbformat_minor": 2
}
