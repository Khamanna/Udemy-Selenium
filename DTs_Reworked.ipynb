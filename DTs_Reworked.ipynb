{
 "cells": [
  {
   "cell_type": "code",
   "execution_count": 108,
   "metadata": {},
   "outputs": [
    {
     "name": "stdout",
     "output_type": "stream",
     "text": [
      "(128, 6)\n"
     ]
    },
    {
     "data": {
      "text/html": [
       "<div>\n",
       "<style scoped>\n",
       "    .dataframe tbody tr th:only-of-type {\n",
       "        vertical-align: middle;\n",
       "    }\n",
       "\n",
       "    .dataframe tbody tr th {\n",
       "        vertical-align: top;\n",
       "    }\n",
       "\n",
       "    .dataframe thead th {\n",
       "        text-align: right;\n",
       "    }\n",
       "</style>\n",
       "<table border=\"1\" class=\"dataframe\">\n",
       "  <thead>\n",
       "    <tr style=\"text-align: right;\">\n",
       "      <th></th>\n",
       "      <th>instructor</th>\n",
       "      <th>num_voters</th>\n",
       "      <th>price</th>\n",
       "      <th>rating</th>\n",
       "      <th>courses</th>\n",
       "      <th>topic</th>\n",
       "    </tr>\n",
       "  </thead>\n",
       "  <tbody>\n",
       "    <tr>\n",
       "      <td>0</td>\n",
       "      <td>Kirill Eremenko SuperDataScience Team</td>\n",
       "      <td>36294</td>\n",
       "      <td>16.99</td>\n",
       "      <td>4.6</td>\n",
       "      <td>R Programming A-Z™: R For Data Science With Re...</td>\n",
       "      <td>R_programming</td>\n",
       "    </tr>\n",
       "    <tr>\n",
       "      <td>1</td>\n",
       "      <td>Jose Portilla</td>\n",
       "      <td>12032</td>\n",
       "      <td>16.99</td>\n",
       "      <td>4.7</td>\n",
       "      <td>Data Science and Machine Learning Bootcamp with R</td>\n",
       "      <td>R_programming</td>\n",
       "    </tr>\n",
       "    <tr>\n",
       "      <td>2</td>\n",
       "      <td>Bogdan Anastasiei</td>\n",
       "      <td>2125</td>\n",
       "      <td>12.99</td>\n",
       "      <td>4.5</td>\n",
       "      <td>R Programming For Absolute Beginners</td>\n",
       "      <td>R_programming</td>\n",
       "    </tr>\n",
       "  </tbody>\n",
       "</table>\n",
       "</div>"
      ],
      "text/plain": [
       "                              instructor  num_voters  price  rating  \\\n",
       "0  Kirill Eremenko SuperDataScience Team       36294  16.99     4.6   \n",
       "1                          Jose Portilla       12032  16.99     4.7   \n",
       "2                      Bogdan Anastasiei        2125  12.99     4.5   \n",
       "\n",
       "                                             courses          topic  \n",
       "0  R Programming A-Z™: R For Data Science With Re...  R_programming  \n",
       "1  Data Science and Machine Learning Bootcamp with R  R_programming  \n",
       "2               R Programming For Absolute Beginners  R_programming  "
      ]
     },
     "execution_count": 108,
     "metadata": {},
     "output_type": "execute_result"
    }
   ],
   "source": [
    "import pandas as pd\n",
    "\n",
    "r_data1 = pd.read_csv('UdemyR.csv')\n",
    "r_data2 = pd.read_csv('UdemyR_1.csv')\n",
    "r_data = pd.concat([r_data1, r_data2], sort=True)\n",
    "r_data['topic'] = \"R_programming\"\n",
    "r_data=r_data.rename(columns={' instructor': 'instructor', ' rating': 'rating', ' price': 'price', ' num_voters ': 'num_voters'})\n",
    "r_data['num_voters'] = r_data['num_voters']*(-1)\n",
    "print(r_data.shape)\n",
    "r_data.head(3)"
   ]
  },
  {
   "cell_type": "code",
   "execution_count": 109,
   "metadata": {},
   "outputs": [
    {
     "data": {
      "text/plain": [
       "Introduction to R Programming - A Modern Approach             5\n",
       "Introduction to R Programming                                 5\n",
       "RA: Data Science and Supply chain analytics.(A-Z with R)      4\n",
       "The Data Science Course 2020 Q3 Updated: Bootcamp Part 4      1\n",
       "R Programming: Advanced Analytics In R For Data Science       1\n",
       "                                                             ..\n",
       "Data Science and Machine Learning Bootcamp with R             1\n",
       "Learn programming in R                                        1\n",
       "Mastering in Visualization with R programming                 1\n",
       "Learning Path: R: Master R Data Analysis and Visualization    1\n",
       "Data Science: R Programming for Beginners                     1\n",
       "Name: courses, Length: 117, dtype: int64"
      ]
     },
     "execution_count": 109,
     "metadata": {},
     "output_type": "execute_result"
    }
   ],
   "source": [
    "r_data['courses'].value_counts()"
   ]
  },
  {
   "cell_type": "code",
   "execution_count": 111,
   "metadata": {},
   "outputs": [
    {
     "data": {
      "text/html": [
       "<div>\n",
       "<style scoped>\n",
       "    .dataframe tbody tr th:only-of-type {\n",
       "        vertical-align: middle;\n",
       "    }\n",
       "\n",
       "    .dataframe tbody tr th {\n",
       "        vertical-align: top;\n",
       "    }\n",
       "\n",
       "    .dataframe thead th {\n",
       "        text-align: right;\n",
       "    }\n",
       "</style>\n",
       "<table border=\"1\" class=\"dataframe\">\n",
       "  <thead>\n",
       "    <tr style=\"text-align: right;\">\n",
       "      <th></th>\n",
       "      <th>instructor</th>\n",
       "      <th>num_voters</th>\n",
       "      <th>price</th>\n",
       "      <th>rating</th>\n",
       "      <th>courses</th>\n",
       "      <th>topic</th>\n",
       "    </tr>\n",
       "  </thead>\n",
       "  <tbody>\n",
       "    <tr>\n",
       "      <td>7</td>\n",
       "      <td>Robert Jeutong</td>\n",
       "      <td>67</td>\n",
       "      <td>14.99</td>\n",
       "      <td>4.7</td>\n",
       "      <td>Introduction to R Programming - A Modern Approach</td>\n",
       "      <td>R_programming</td>\n",
       "    </tr>\n",
       "    <tr>\n",
       "      <td>25</td>\n",
       "      <td>Robert Jeutong</td>\n",
       "      <td>67</td>\n",
       "      <td>14.99</td>\n",
       "      <td>4.7</td>\n",
       "      <td>Introduction to R Programming - A Modern Approach</td>\n",
       "      <td>R_programming</td>\n",
       "    </tr>\n",
       "    <tr>\n",
       "      <td>30</td>\n",
       "      <td>Robert Jeutong</td>\n",
       "      <td>67</td>\n",
       "      <td>14.99</td>\n",
       "      <td>4.7</td>\n",
       "      <td>Introduction to R Programming - A Modern Approach</td>\n",
       "      <td>R_programming</td>\n",
       "    </tr>\n",
       "    <tr>\n",
       "      <td>53</td>\n",
       "      <td>Robert Jeutong</td>\n",
       "      <td>67</td>\n",
       "      <td>14.99</td>\n",
       "      <td>4.7</td>\n",
       "      <td>Introduction to R Programming - A Modern Approach</td>\n",
       "      <td>R_programming</td>\n",
       "    </tr>\n",
       "    <tr>\n",
       "      <td>76</td>\n",
       "      <td>Robert Jeutong</td>\n",
       "      <td>67</td>\n",
       "      <td>14.99</td>\n",
       "      <td>4.7</td>\n",
       "      <td>Introduction to R Programming - A Modern Approach</td>\n",
       "      <td>R_programming</td>\n",
       "    </tr>\n",
       "  </tbody>\n",
       "</table>\n",
       "</div>"
      ],
      "text/plain": [
       "        instructor  num_voters  price  rating  \\\n",
       "7   Robert Jeutong          67  14.99     4.7   \n",
       "25  Robert Jeutong          67  14.99     4.7   \n",
       "30  Robert Jeutong          67  14.99     4.7   \n",
       "53  Robert Jeutong          67  14.99     4.7   \n",
       "76  Robert Jeutong          67  14.99     4.7   \n",
       "\n",
       "                                              courses          topic  \n",
       "7   Introduction to R Programming - A Modern Approach  R_programming  \n",
       "25  Introduction to R Programming - A Modern Approach  R_programming  \n",
       "30  Introduction to R Programming - A Modern Approach  R_programming  \n",
       "53  Introduction to R Programming - A Modern Approach  R_programming  \n",
       "76  Introduction to R Programming - A Modern Approach  R_programming  "
      ]
     },
     "execution_count": 111,
     "metadata": {},
     "output_type": "execute_result"
    }
   ],
   "source": [
    "r_data.loc[r_data['courses']=='Introduction to R Programming - A Modern Approach']"
   ]
  },
  {
   "cell_type": "code",
   "execution_count": 113,
   "metadata": {},
   "outputs": [
    {
     "name": "stdout",
     "output_type": "stream",
     "text": [
      "(117, 6)\n"
     ]
    }
   ],
   "source": [
    "r_data=r_data.drop_duplicates(subset=['courses'])\n",
    "print(r_data.shape)"
   ]
  },
  {
   "cell_type": "code",
   "execution_count": 114,
   "metadata": {},
   "outputs": [
    {
     "data": {
      "text/plain": [
       "(154, 6)"
      ]
     },
     "execution_count": 114,
     "metadata": {},
     "output_type": "execute_result"
    }
   ],
   "source": [
    "stat_data = pd.read_csv('UdemyStats.csv')\n",
    "stat_data.head(10)\n",
    "stat_data['topic'] = 'Statistics'\n",
    "stat_data['courses']\n",
    "stat_data[' num_voters '] = stat_data[' num_voters '].str.strip('()')\n",
    "stat_data = stat_data.rename(columns={' num_voters ': 'num_voters', ' instructor': 'instructor', ' rating': 'rating', ' price': 'price', ' num_voters ':'num_voters'})\n",
    "stat_data.shape"
   ]
  },
  {
   "cell_type": "code",
   "execution_count": 115,
   "metadata": {},
   "outputs": [
    {
     "data": {
      "text/plain": [
       "Become a Probability & Statistics Master                        8\n",
       "Introduction to Probability and Statistics                      8\n",
       "Workshop in Probability and Statistics                          8\n",
       "Introduction to Statistics                                      2\n",
       "Become a Permutations and Combinations Master                   1\n",
       "                                                               ..\n",
       "Statistics for Data Science and Business Analysis               1\n",
       "Learn Data science Business Analytics using Excel               1\n",
       "Business Statistics I                                           1\n",
       "Become a Master in Statistics for Data Science using Python     1\n",
       "Design of Experiments: Concepts and Application Case Studies    1\n",
       "Name: courses, Length: 132, dtype: int64"
      ]
     },
     "execution_count": 115,
     "metadata": {},
     "output_type": "execute_result"
    }
   ],
   "source": [
    "stat_data['courses'].value_counts()"
   ]
  },
  {
   "cell_type": "code",
   "execution_count": 116,
   "metadata": {},
   "outputs": [
    {
     "data": {
      "text/html": [
       "<div>\n",
       "<style scoped>\n",
       "    .dataframe tbody tr th:only-of-type {\n",
       "        vertical-align: middle;\n",
       "    }\n",
       "\n",
       "    .dataframe tbody tr th {\n",
       "        vertical-align: top;\n",
       "    }\n",
       "\n",
       "    .dataframe thead th {\n",
       "        text-align: right;\n",
       "    }\n",
       "</style>\n",
       "<table border=\"1\" class=\"dataframe\">\n",
       "  <thead>\n",
       "    <tr style=\"text-align: right;\">\n",
       "      <th></th>\n",
       "      <th>courses</th>\n",
       "      <th>instructor</th>\n",
       "      <th>price</th>\n",
       "      <th>rating</th>\n",
       "      <th>num_voters</th>\n",
       "      <th>topic</th>\n",
       "    </tr>\n",
       "  </thead>\n",
       "  <tbody>\n",
       "    <tr>\n",
       "      <td>0</td>\n",
       "      <td>Become a Probability &amp; Statistics Master</td>\n",
       "      <td>Krista King</td>\n",
       "      <td>30.99</td>\n",
       "      <td>4.6</td>\n",
       "      <td>5669</td>\n",
       "      <td>Statistics</td>\n",
       "    </tr>\n",
       "    <tr>\n",
       "      <td>6</td>\n",
       "      <td>Become a Probability &amp; Statistics Master</td>\n",
       "      <td>Krista King</td>\n",
       "      <td>30.99</td>\n",
       "      <td>4.6</td>\n",
       "      <td>5669</td>\n",
       "      <td>Statistics</td>\n",
       "    </tr>\n",
       "    <tr>\n",
       "      <td>29</td>\n",
       "      <td>Become a Probability &amp; Statistics Master</td>\n",
       "      <td>Krista King</td>\n",
       "      <td>30.99</td>\n",
       "      <td>4.6</td>\n",
       "      <td>5669</td>\n",
       "      <td>Statistics</td>\n",
       "    </tr>\n",
       "    <tr>\n",
       "      <td>52</td>\n",
       "      <td>Become a Probability &amp; Statistics Master</td>\n",
       "      <td>Krista King</td>\n",
       "      <td>30.99</td>\n",
       "      <td>4.6</td>\n",
       "      <td>5669</td>\n",
       "      <td>Statistics</td>\n",
       "    </tr>\n",
       "    <tr>\n",
       "      <td>75</td>\n",
       "      <td>Become a Probability &amp; Statistics Master</td>\n",
       "      <td>Krista King</td>\n",
       "      <td>30.99</td>\n",
       "      <td>4.6</td>\n",
       "      <td>5669</td>\n",
       "      <td>Statistics</td>\n",
       "    </tr>\n",
       "    <tr>\n",
       "      <td>98</td>\n",
       "      <td>Become a Probability &amp; Statistics Master</td>\n",
       "      <td>Krista King</td>\n",
       "      <td>30.99</td>\n",
       "      <td>4.6</td>\n",
       "      <td>5669</td>\n",
       "      <td>Statistics</td>\n",
       "    </tr>\n",
       "    <tr>\n",
       "      <td>120</td>\n",
       "      <td>Become a Probability &amp; Statistics Master</td>\n",
       "      <td>Krista King</td>\n",
       "      <td>30.99</td>\n",
       "      <td>4.6</td>\n",
       "      <td>5669</td>\n",
       "      <td>Statistics</td>\n",
       "    </tr>\n",
       "    <tr>\n",
       "      <td>143</td>\n",
       "      <td>Become a Probability &amp; Statistics Master</td>\n",
       "      <td>Krista King</td>\n",
       "      <td>30.99</td>\n",
       "      <td>4.6</td>\n",
       "      <td>5669</td>\n",
       "      <td>Statistics</td>\n",
       "    </tr>\n",
       "  </tbody>\n",
       "</table>\n",
       "</div>"
      ],
      "text/plain": [
       "                                      courses   instructor  price  rating  \\\n",
       "0    Become a Probability & Statistics Master  Krista King  30.99     4.6   \n",
       "6    Become a Probability & Statistics Master  Krista King  30.99     4.6   \n",
       "29   Become a Probability & Statistics Master  Krista King  30.99     4.6   \n",
       "52   Become a Probability & Statistics Master  Krista King  30.99     4.6   \n",
       "75   Become a Probability & Statistics Master  Krista King  30.99     4.6   \n",
       "98   Become a Probability & Statistics Master  Krista King  30.99     4.6   \n",
       "120  Become a Probability & Statistics Master  Krista King  30.99     4.6   \n",
       "143  Become a Probability & Statistics Master  Krista King  30.99     4.6   \n",
       "\n",
       "    num_voters       topic  \n",
       "0         5669  Statistics  \n",
       "6         5669  Statistics  \n",
       "29        5669  Statistics  \n",
       "52        5669  Statistics  \n",
       "75        5669  Statistics  \n",
       "98        5669  Statistics  \n",
       "120       5669  Statistics  \n",
       "143       5669  Statistics  "
      ]
     },
     "execution_count": 116,
     "metadata": {},
     "output_type": "execute_result"
    }
   ],
   "source": [
    "stat_data.loc[stat_data['courses']=='Become a Probability & Statistics Master']"
   ]
  },
  {
   "cell_type": "code",
   "execution_count": 117,
   "metadata": {},
   "outputs": [
    {
     "data": {
      "text/plain": [
       "(132, 6)"
      ]
     },
     "execution_count": 117,
     "metadata": {},
     "output_type": "execute_result"
    }
   ],
   "source": [
    "stat_data = stat_data.drop_duplicates(subset=['courses'])\n",
    "stat_data.shape"
   ]
  },
  {
   "cell_type": "code",
   "execution_count": 120,
   "metadata": {},
   "outputs": [
    {
     "name": "stdout",
     "output_type": "stream",
     "text": [
      "(249, 6)\n"
     ]
    },
    {
     "data": {
      "text/html": [
       "<div>\n",
       "<style scoped>\n",
       "    .dataframe tbody tr th:only-of-type {\n",
       "        vertical-align: middle;\n",
       "    }\n",
       "\n",
       "    .dataframe tbody tr th {\n",
       "        vertical-align: top;\n",
       "    }\n",
       "\n",
       "    .dataframe thead th {\n",
       "        text-align: right;\n",
       "    }\n",
       "</style>\n",
       "<table border=\"1\" class=\"dataframe\">\n",
       "  <thead>\n",
       "    <tr style=\"text-align: right;\">\n",
       "      <th></th>\n",
       "      <th>courses</th>\n",
       "      <th>instructor</th>\n",
       "      <th>num_voters</th>\n",
       "      <th>price</th>\n",
       "      <th>rating</th>\n",
       "      <th>topic</th>\n",
       "    </tr>\n",
       "  </thead>\n",
       "  <tbody>\n",
       "    <tr>\n",
       "      <td>0</td>\n",
       "      <td>R Programming A-Z™: R For Data Science With Re...</td>\n",
       "      <td>Kirill Eremenko SuperDataScience Team</td>\n",
       "      <td>36294</td>\n",
       "      <td>16.99</td>\n",
       "      <td>4.6</td>\n",
       "      <td>R_programming</td>\n",
       "    </tr>\n",
       "    <tr>\n",
       "      <td>1</td>\n",
       "      <td>Data Science and Machine Learning Bootcamp with R</td>\n",
       "      <td>Jose Portilla</td>\n",
       "      <td>12032</td>\n",
       "      <td>16.99</td>\n",
       "      <td>4.7</td>\n",
       "      <td>R_programming</td>\n",
       "    </tr>\n",
       "    <tr>\n",
       "      <td>2</td>\n",
       "      <td>R Programming For Absolute Beginners</td>\n",
       "      <td>Bogdan Anastasiei</td>\n",
       "      <td>2125</td>\n",
       "      <td>12.99</td>\n",
       "      <td>4.5</td>\n",
       "      <td>R_programming</td>\n",
       "    </tr>\n",
       "    <tr>\n",
       "      <td>3</td>\n",
       "      <td>R Programming for Statistics and Data Science ...</td>\n",
       "      <td>365 Careers 365 Simona (The 365 Team)</td>\n",
       "      <td>2549</td>\n",
       "      <td>12.99</td>\n",
       "      <td>4.6</td>\n",
       "      <td>R_programming</td>\n",
       "    </tr>\n",
       "    <tr>\n",
       "      <td>4</td>\n",
       "      <td>R Programming Hands-on Specialization for Data...</td>\n",
       "      <td>Irfan Elahi</td>\n",
       "      <td>521</td>\n",
       "      <td>12.99</td>\n",
       "      <td>3.8</td>\n",
       "      <td>R_programming</td>\n",
       "    </tr>\n",
       "    <tr>\n",
       "      <td>5</td>\n",
       "      <td>R Programming</td>\n",
       "      <td>Sai Acuity Institute of Learning Pvt Ltd Enabl...</td>\n",
       "      <td>195</td>\n",
       "      <td>12.99</td>\n",
       "      <td>4.3</td>\n",
       "      <td>R_programming</td>\n",
       "    </tr>\n",
       "    <tr>\n",
       "      <td>6</td>\n",
       "      <td>Introduction to R Programming</td>\n",
       "      <td>R MADANA MOHANA</td>\n",
       "      <td>67</td>\n",
       "      <td>12.99</td>\n",
       "      <td>4.7</td>\n",
       "      <td>R_programming</td>\n",
       "    </tr>\n",
       "    <tr>\n",
       "      <td>7</td>\n",
       "      <td>Introduction to R Programming - A Modern Approach</td>\n",
       "      <td>Robert Jeutong</td>\n",
       "      <td>67</td>\n",
       "      <td>14.99</td>\n",
       "      <td>4.7</td>\n",
       "      <td>R_programming</td>\n",
       "    </tr>\n",
       "    <tr>\n",
       "      <td>8</td>\n",
       "      <td>RA: Data Science and Supply chain analytics.(A...</td>\n",
       "      <td>Haytham Omar</td>\n",
       "      <td>85</td>\n",
       "      <td>12.99</td>\n",
       "      <td>4.6</td>\n",
       "      <td>R_programming</td>\n",
       "    </tr>\n",
       "    <tr>\n",
       "      <td>9</td>\n",
       "      <td>R for Data Science: Learn R Programming in 2 H...</td>\n",
       "      <td>Ajay R Warrier</td>\n",
       "      <td>138</td>\n",
       "      <td>12.99</td>\n",
       "      <td>4.4</td>\n",
       "      <td>R_programming</td>\n",
       "    </tr>\n",
       "  </tbody>\n",
       "</table>\n",
       "</div>"
      ],
      "text/plain": [
       "                                             courses  \\\n",
       "0  R Programming A-Z™: R For Data Science With Re...   \n",
       "1  Data Science and Machine Learning Bootcamp with R   \n",
       "2               R Programming For Absolute Beginners   \n",
       "3  R Programming for Statistics and Data Science ...   \n",
       "4  R Programming Hands-on Specialization for Data...   \n",
       "5                                      R Programming   \n",
       "6                      Introduction to R Programming   \n",
       "7  Introduction to R Programming - A Modern Approach   \n",
       "8  RA: Data Science and Supply chain analytics.(A...   \n",
       "9  R for Data Science: Learn R Programming in 2 H...   \n",
       "\n",
       "                                          instructor num_voters  price  \\\n",
       "0              Kirill Eremenko SuperDataScience Team      36294  16.99   \n",
       "1                                      Jose Portilla      12032  16.99   \n",
       "2                                  Bogdan Anastasiei       2125  12.99   \n",
       "3              365 Careers 365 Simona (The 365 Team)       2549  12.99   \n",
       "4                                        Irfan Elahi        521  12.99   \n",
       "5  Sai Acuity Institute of Learning Pvt Ltd Enabl...        195  12.99   \n",
       "6                                    R MADANA MOHANA         67  12.99   \n",
       "7                                     Robert Jeutong         67  14.99   \n",
       "8                                       Haytham Omar         85  12.99   \n",
       "9                                     Ajay R Warrier        138  12.99   \n",
       "\n",
       "   rating          topic  \n",
       "0     4.6  R_programming  \n",
       "1     4.7  R_programming  \n",
       "2     4.5  R_programming  \n",
       "3     4.6  R_programming  \n",
       "4     3.8  R_programming  \n",
       "5     4.3  R_programming  \n",
       "6     4.7  R_programming  \n",
       "7     4.7  R_programming  \n",
       "8     4.6  R_programming  \n",
       "9     4.4  R_programming  "
      ]
     },
     "execution_count": 120,
     "metadata": {},
     "output_type": "execute_result"
    }
   ],
   "source": [
    "Stat_R_Udemy = pd.concat([r_data, stat_data], sort=True)\n",
    "print(Stat_R_Udemy.shape)\n",
    "Stat_R_Udemy.head(10)"
   ]
  },
  {
   "cell_type": "code",
   "execution_count": 121,
   "metadata": {},
   "outputs": [],
   "source": [
    "%matplotlib inline"
   ]
  },
  {
   "cell_type": "code",
   "execution_count": 122,
   "metadata": {},
   "outputs": [],
   "source": [
    "import numpy as np\n",
    "from matplotlib import pyplot as plt\n",
    "plt.style.use('ggplot')"
   ]
  },
  {
   "cell_type": "code",
   "execution_count": 123,
   "metadata": {},
   "outputs": [
    {
     "name": "stdout",
     "output_type": "stream",
     "text": [
      "Statistics in R - The R Language for Statistical Analysis       2\n",
      "Statistics with R - Beginner Level                              2\n",
      "Statistics with R - Advanced Level                              2\n",
      "R Programming Certification Training: 2020 Edition              2\n",
      "R Programming for Data Science for Absolute Beginners [2020]    1\n",
      "                                                               ..\n",
      "How to Visualize Data with R                                    1\n",
      "Statistics for Business Analytics and Data Science A-Z™         1\n",
      "Golf Statistics for Beginners: Strokes Gained & More            1\n",
      "A-Level Maths: Statistics (Year 1 / AS)                         1\n",
      "Plotly in R Programming                                         1\n",
      "Name: courses, Length: 245, dtype: int64\n",
      "\n",
      "\n",
      "Packt Publishing         17\n",
      "Geoffrey Hubona Ph.D.    10\n",
      "Bogdan Anastasiei         6\n",
      "Laura Roberts             6\n",
      "R-Tutorials Training      5\n",
      "                         ..\n",
      "Nate @ Wisdify            1\n",
      "Amrita Panjwani           1\n",
      "Irfan Elahi               1\n",
      "Data Training Campus      1\n",
      "EDU CBA                   1\n",
      "Name: instructor, Length: 162, dtype: int64\n",
      "\n",
      "\n",
      "0        19\n",
      "2        13\n",
      "1         9\n",
      "0         9\n",
      "3         5\n",
      "         ..\n",
      "138       1\n",
      "137       1\n",
      "136       1\n",
      "134       1\n",
      "12032     1\n",
      "Name: num_voters, Length: 156, dtype: int64\n",
      "\n",
      "\n",
      "Statistics       132\n",
      "R_programming    117\n",
      "Name: topic, dtype: int64\n",
      "\n",
      "\n"
     ]
    }
   ],
   "source": [
    "#exploring the columns of object type\n",
    "columns = Stat_R_Udemy.columns.tolist()\n",
    "\n",
    "obj_columns = list(filter(lambda col: Stat_R_Udemy[col].dtype == object, columns))\n",
    "\n",
    "for col in obj_columns:\n",
    "    print(Stat_R_Udemy[col].value_counts())\n",
    "    print('\\n')"
   ]
  },
  {
   "cell_type": "code",
   "execution_count": 124,
   "metadata": {},
   "outputs": [
    {
     "data": {
      "text/plain": [
       "Statistics in R - The R Language for Statistical Analysis       2\n",
       "Statistics with R - Beginner Level                              2\n",
       "Statistics with R - Advanced Level                              2\n",
       "R Programming Certification Training: 2020 Edition              2\n",
       "R Programming for Data Science for Absolute Beginners [2020]    1\n",
       "                                                               ..\n",
       "How to Visualize Data with R                                    1\n",
       "Statistics for Business Analytics and Data Science A-Z™         1\n",
       "Golf Statistics for Beginners: Strokes Gained & More            1\n",
       "A-Level Maths: Statistics (Year 1 / AS)                         1\n",
       "Plotly in R Programming                                         1\n",
       "Name: courses, Length: 245, dtype: int64"
      ]
     },
     "execution_count": 124,
     "metadata": {},
     "output_type": "execute_result"
    }
   ],
   "source": [
    "#studying the courses\n",
    "Stat_R_Udemy['courses'].value_counts()"
   ]
  },
  {
   "cell_type": "code",
   "execution_count": 126,
   "metadata": {},
   "outputs": [
    {
     "data": {
      "text/html": [
       "<div>\n",
       "<style scoped>\n",
       "    .dataframe tbody tr th:only-of-type {\n",
       "        vertical-align: middle;\n",
       "    }\n",
       "\n",
       "    .dataframe tbody tr th {\n",
       "        vertical-align: top;\n",
       "    }\n",
       "\n",
       "    .dataframe thead th {\n",
       "        text-align: right;\n",
       "    }\n",
       "</style>\n",
       "<table border=\"1\" class=\"dataframe\">\n",
       "  <thead>\n",
       "    <tr style=\"text-align: right;\">\n",
       "      <th></th>\n",
       "      <th>courses</th>\n",
       "      <th>instructor</th>\n",
       "      <th>num_voters</th>\n",
       "      <th>price</th>\n",
       "      <th>rating</th>\n",
       "      <th>topic</th>\n",
       "    </tr>\n",
       "  </thead>\n",
       "  <tbody>\n",
       "    <tr>\n",
       "      <td>20</td>\n",
       "      <td>Statistics in R - The R Language for Statistic...</td>\n",
       "      <td>R-Tutorials Training</td>\n",
       "      <td>262</td>\n",
       "      <td>12.99</td>\n",
       "      <td>4.5</td>\n",
       "      <td>R_programming</td>\n",
       "    </tr>\n",
       "    <tr>\n",
       "      <td>93</td>\n",
       "      <td>Statistics in R - The R Language for Statistic...</td>\n",
       "      <td>R-Tutorials Training</td>\n",
       "      <td>262</td>\n",
       "      <td>12.99</td>\n",
       "      <td>4.5</td>\n",
       "      <td>Statistics</td>\n",
       "    </tr>\n",
       "  </tbody>\n",
       "</table>\n",
       "</div>"
      ],
      "text/plain": [
       "                                              courses            instructor  \\\n",
       "20  Statistics in R - The R Language for Statistic...  R-Tutorials Training   \n",
       "93  Statistics in R - The R Language for Statistic...  R-Tutorials Training   \n",
       "\n",
       "   num_voters  price  rating          topic  \n",
       "20        262  12.99     4.5  R_programming  \n",
       "93        262  12.99     4.5     Statistics  "
      ]
     },
     "execution_count": 126,
     "metadata": {},
     "output_type": "execute_result"
    }
   ],
   "source": [
    "#making sure courses don't repeat within the same 'topic'\n",
    "Stat_R_Udemy.loc[Stat_R_Udemy['courses']=='Statistics in R - The R Language for Statistical Analysis']"
   ]
  },
  {
   "cell_type": "code",
   "execution_count": 127,
   "metadata": {},
   "outputs": [
    {
     "data": {
      "text/plain": [
       "Statistics       132\n",
       "R_programming    117\n",
       "Name: topic, dtype: int64"
      ]
     },
     "execution_count": 127,
     "metadata": {},
     "output_type": "execute_result"
    }
   ],
   "source": [
    "Stat_R_Udemy['topic'].value_counts()"
   ]
  },
  {
   "cell_type": "code",
   "execution_count": 128,
   "metadata": {},
   "outputs": [
    {
     "data": {
      "text/plain": [
       "<matplotlib.axes._subplots.AxesSubplot at 0x1c20764f50>"
      ]
     },
     "execution_count": 128,
     "metadata": {},
     "output_type": "execute_result"
    },
    {
     "data": {
      "image/png": "[encoded data removed]",
      "text/plain": [
       "<Figure size 864x432 with 1 Axes>"
      ]
     },
     "metadata": {},
     "output_type": "display_data"
    }
   ],
   "source": [
    "plt.figure(figsize=(12,6))\n",
    "Stat_R_Udemy['topic'].value_counts(ascending = True).plot(kind='barh', color=['r','b'])"
   ]
  },
  {
   "cell_type": "code",
   "execution_count": 141,
   "metadata": {},
   "outputs": [
    {
     "data": {
      "text/plain": [
       "0      30.99\n",
       "134    19.99\n",
       "92     19.99\n",
       "18     18.99\n",
       "44     18.99\n",
       "       ...  \n",
       "50     12.99\n",
       "49     12.99\n",
       "48     12.99\n",
       "47     12.99\n",
       "10     12.99\n",
       "Name: price, Length: 249, dtype: float64"
      ]
     },
     "execution_count": 141,
     "metadata": {},
     "output_type": "execute_result"
    }
   ],
   "source": [
    "Stat_R_Udemy['price'].sort_values(ascending=False)"
   ]
  },
  {
   "cell_type": "code",
   "execution_count": 136,
   "metadata": {},
   "outputs": [
    {
     "data": {
      "text/plain": [
       "price  topic        \n",
       "12.99  Statistics       126\n",
       "       R_programming    105\n",
       "13.99  R_programming      2\n",
       "14.99  R_programming      2\n",
       "15.99  R_programming      1\n",
       "16.99  R_programming      6\n",
       "18.99  Statistics         3\n",
       "       R_programming      1\n",
       "19.99  Statistics         2\n",
       "30.99  Statistics         1\n",
       "Name: topic, dtype: int64"
      ]
     },
     "execution_count": 136,
     "metadata": {},
     "output_type": "execute_result"
    },
    {
     "data": {
      "image/png": "[encoded data removed]",
      "text/plain": [
       "<Figure size 864x576 with 1 Axes>"
      ]
     },
     "metadata": {},
     "output_type": "display_data"
    }
   ],
   "source": [
    "plt.figure(figsize=(12,8))\n",
    "num_by_dollar_amount = Stat_R_Udemy.groupby('price')['topic'].value_counts(ascending = False)\n",
    "Stat_R_Udemy.groupby('price')['topic'].value_counts(ascending = False).plot(kind='barh', color=['r','b'])\n",
    "num_by_dollar_amount"
   ]
  },
  {
   "cell_type": "code",
   "execution_count": 51,
   "metadata": {},
   "outputs": [
    {
     "data": {
      "text/html": [
       "        <script type=\"text/javascript\">\n",
       "        window.PlotlyConfig = {MathJaxConfig: 'local'};\n",
       "        if (window.MathJax) {MathJax.Hub.Config({SVG: {font: \"STIX-Web\"}});}\n",
       "        if (typeof require !== 'undefined') {\n",
       "        require.undef(\"plotly\");\n",
       "        requirejs.config({\n",
       "            paths: {\n",
       "                'plotly': ['https://cdn.plot.ly/plotly-latest.min']\n",
       "            }\n",
       "        });\n",
       "        require(['plotly'], function(Plotly) {\n",
       "            window._Plotly = Plotly;\n",
       "        });\n",
       "        }\n",
       "        </script>\n",
       "        "
      ]
     },
     "metadata": {},
     "output_type": "display_data"
    },
    {
     "data": {
      "text/html": [
       "        <script type=\"text/javascript\">\n",
       "        window.PlotlyConfig = {MathJaxConfig: 'local'};\n",
       "        if (window.MathJax) {MathJax.Hub.Config({SVG: {font: \"STIX-Web\"}});}\n",
       "        if (typeof require !== 'undefined') {\n",
       "        require.undef(\"plotly\");\n",
       "        requirejs.config({\n",
       "            paths: {\n",
       "                'plotly': ['https://cdn.plot.ly/plotly-latest.min']\n",
       "            }\n",
       "        });\n",
       "        require(['plotly'], function(Plotly) {\n",
       "            window._Plotly = Plotly;\n",
       "        });\n",
       "        }\n",
       "        </script>\n",
       "        "
      ]
     },
     "metadata": {},
     "output_type": "display_data"
    }
   ],
   "source": [
    "import plotly\n",
    "plotly.offline.init_notebook_mode(connected=True)\n",
    "from plotly.graph_objs import Figure, Layout, Histogram\n",
    "import plotly.offline\n",
    "import cufflinks as cf\n",
    "import plotly.offline\n",
    "cf.go_offline()\n",
    "cf.set_config_file(offline=False, world_readable=True)"
   ]
  },
  {
   "cell_type": "code",
   "execution_count": 52,
   "metadata": {},
   "outputs": [
    {
     "data": {
      "application/vnd.plotly.v1+json": {
       "config": {
        "linkText": "Export to plot.ly",
        "plotlyServerURL": "https://plot.ly",
        "showLink": true
       },
       "data": [
        {
         "histfunc": "count",
         "histnorm": "",
         "marker": {
          "color": "rgba(255, 153, 51, 1.0)",
          "line": {
           "color": "#4D5663",
           "width": 1.3
          }
         },
         "name": "Stats_rating",
         "nbinsx": 20,
         "opacity": 0.8,
         "orientation": "v",
         "type": "histogram",
         "x": [
          4.6,
          4.6,
          4.4,
          4.6,
          4.3,
          4.6,
          null,
          null,
          null,
          4.5,
          3.9,
          4.4,
          4.6,
          4.7,
          4.5,
          4.2,
          4.3,
          4.4,
          0,
          3.9,
          4.2,
          4.3,
          5,
          5,
          4.2,
          4.6,
          4.6,
          4.6,
          4.4,
          4.6,
          4.3,
          4.6,
          4.5,
          3.9,
          4.4,
          4.6,
          4.7,
          4.5,
          4.2,
          4.3,
          4.4,
          0,
          3.9,
          4.2,
          4.3,
          5,
          5,
          4.2,
          4.6,
          4.5,
          4.5,
          4.1,
          4.3,
          4,
          3.9,
          4.4,
          4.5,
          4.4,
          3.4,
          4.8,
          3.9,
          4.3,
          3.6,
          4.3,
          4.1,
          4.5,
          4.4,
          4.1,
          4.3,
          4.2,
          4.5,
          3.9,
          4.1,
          4.1,
          3.6,
          5,
          4.4,
          4.8,
          5,
          4.5,
          3.6,
          0,
          4.2,
          2.2,
          3.9,
          0,
          3,
          0,
          0,
          0,
          3.8,
          0,
          3.5,
          4.5,
          4.2,
          4.6,
          4.4,
          4.5,
          4.4,
          3.8,
          4.7,
          4.1,
          4,
          0,
          4.8,
          0,
          4.5,
          5,
          3.7,
          4.3,
          0,
          4.2,
          0,
          4.8,
          4.3,
          4.3,
          3.6,
          0,
          3.7,
          4.9,
          3.7,
          5,
          3.5,
          4.6,
          4,
          4.8,
          4,
          0,
          4.1,
          3.8,
          4.9,
          4,
          4.3,
          4.6,
          4.2,
          0,
          5,
          4.5,
          3.8,
          0,
          4.1,
          5,
          4.7,
          4.3,
          0,
          0,
          3,
          0,
          4.3,
          5,
          0,
          5,
          5,
          3.8,
          4.4,
          4.9,
          3.7,
          4.1
         ]
        },
        {
         "histfunc": "count",
         "histnorm": "",
         "marker": {
          "color": "rgba(55, 128, 191, 1.0)",
          "line": {
           "color": "#4D5663",
           "width": 1.3
          }
         },
         "name": "R_rating",
         "nbinsx": 20,
         "opacity": 0.8,
         "orientation": "v",
         "type": "histogram",
         "x": [
          4.6,
          4.5,
          4.7,
          4.4,
          3.9,
          4.4,
          4.7,
          3.8,
          4.4,
          4.7,
          4.5,
          4.7,
          3.3,
          4.4,
          4.5,
          4.3,
          4.6,
          4.5,
          4.4,
          3.8,
          4.6,
          4.2,
          3.8,
          3.6,
          3.6,
          4.1,
          4.6,
          4.5,
          4.7,
          4.4,
          3.9,
          4.4,
          4.7,
          4.5,
          4.7,
          3.3,
          4.4,
          4.5,
          4.3,
          4.6,
          4.5,
          4.4,
          3.8,
          4.6,
          4.2,
          3.8,
          3.6,
          3.6,
          4.1,
          null,
          null,
          null,
          null,
          null,
          null,
          null,
          null,
          null,
          null,
          null,
          null,
          null,
          null,
          null,
          null,
          null,
          null,
          null,
          null,
          null,
          null,
          null,
          null,
          null,
          null,
          null,
          null,
          null,
          null,
          null,
          null,
          null,
          null,
          null,
          null,
          null,
          null,
          null,
          null,
          null,
          null,
          null,
          null,
          null,
          null,
          null,
          null,
          null,
          null,
          null,
          null,
          null,
          null,
          null,
          null,
          null,
          null,
          null,
          null,
          null,
          null,
          null,
          null,
          null,
          null,
          null,
          null,
          null,
          null,
          null,
          null,
          null,
          null,
          null,
          null,
          null,
          null,
          null,
          null,
          null,
          null,
          null,
          null,
          null,
          null,
          null,
          null,
          null,
          null,
          null,
          null,
          null,
          null,
          null,
          null,
          null,
          null,
          null,
          null,
          null,
          null,
          null,
          null,
          null,
          null,
          null,
          null,
          null
         ]
        }
       ],
       "layout": {
        "barmode": "overlay",
        "legend": {
         "bgcolor": "#FFFFFF",
         "font": {
          "color": "#4D5663"
         }
        },
        "paper_bgcolor": "#FFFFFF",
        "plot_bgcolor": "#FFFFFF",
        "template": {
         "data": {
          "bar": [
           {
            "error_x": {
             "color": "#2a3f5f"
            },
            "error_y": {
             "color": "#2a3f5f"
            },
            "marker": {
             "line": {
              "color": "#E5ECF6",
              "width": 0.5
             }
            },
            "type": "bar"
           }
          ],
          "barpolar": [
           {
            "marker": {
             "line": {
              "color": "#E5ECF6",
              "width": 0.5
             }
            },
            "type": "barpolar"
           }
          ],
          "carpet": [
           {
            "aaxis": {
             "endlinecolor": "#2a3f5f",
             "gridcolor": "white",
             "linecolor": "white",
             "minorgridcolor": "white",
             "startlinecolor": "#2a3f5f"
            },
            "baxis": {
             "endlinecolor": "#2a3f5f",
             "gridcolor": "white",
             "linecolor": "white",
             "minorgridcolor": "white",
             "startlinecolor": "#2a3f5f"
            },
            "type": "carpet"
           }
          ],
          "choropleth": [
           {
            "colorbar": {
             "outlinewidth": 0,
             "ticks": ""
            },
            "type": "choropleth"
           }
          ],
          "contour": [
           {
            "colorbar": {
             "outlinewidth": 0,
             "ticks": ""
            },
            "colorscale": [
             [
              0,
              "#0d0887"
             ],
             [
              0.1111111111111111,
              "#46039f"
             ],
             [
              0.2222222222222222,
              "#7201a8"
             ],
             [
              0.3333333333333333,
              "#9c179e"
             ],
             [
              0.4444444444444444,
              "#bd3786"
             ],
             [
              0.5555555555555556,
              "#d8576b"
             ],
             [
              0.6666666666666666,
              "#ed7953"
             ],
             [
              0.7777777777777778,
              "#fb9f3a"
             ],
             [
              0.8888888888888888,
              "#fdca26"
             ],
             [
              1,
              "#f0f921"
             ]
            ],
            "type": "contour"
           }
          ],
          "contourcarpet": [
           {
            "colorbar": {
             "outlinewidth": 0,
             "ticks": ""
            },
            "type": "contourcarpet"
           }
          ],
          "heatmap": [
           {
            "colorbar": {
             "outlinewidth": 0,
             "ticks": ""
            },
            "colorscale": [
             [
              0,
              "#0d0887"
             ],
             [
              0.1111111111111111,
              "#46039f"
             ],
             [
              0.2222222222222222,
              "#7201a8"
             ],
             [
              0.3333333333333333,
              "#9c179e"
             ],
             [
              0.4444444444444444,
              "#bd3786"
             ],
             [
              0.5555555555555556,
              "#d8576b"
             ],
             [
              0.6666666666666666,
              "#ed7953"
             ],
             [
              0.7777777777777778,
              "#fb9f3a"
             ],
             [
              0.8888888888888888,
              "#fdca26"
             ],
             [
              1,
              "#f0f921"
             ]
            ],
            "type": "heatmap"
           }
          ],
          "heatmapgl": [
           {
            "colorbar": {
             "outlinewidth": 0,
             "ticks": ""
            },
            "colorscale": [
             [
              0,
              "#0d0887"
             ],
             [
              0.1111111111111111,
              "#46039f"
             ],
             [
              0.2222222222222222,
              "#7201a8"
             ],
             [
              0.3333333333333333,
              "#9c179e"
             ],
             [
              0.4444444444444444,
              "#bd3786"
             ],
             [
              0.5555555555555556,
              "#d8576b"
             ],
             [
              0.6666666666666666,
              "#ed7953"
             ],
             [
              0.7777777777777778,
              "#fb9f3a"
             ],
             [
              0.8888888888888888,
              "#fdca26"
             ],
             [
              1,
              "#f0f921"
             ]
            ],
            "type": "heatmapgl"
           }
          ],
          "histogram": [
           {
            "marker": {
             "colorbar": {
              "outlinewidth": 0,
              "ticks": ""
             }
            },
            "type": "histogram"
           }
          ],
          "histogram2d": [
           {
            "colorbar": {
             "outlinewidth": 0,
             "ticks": ""
            },
            "colorscale": [
             [
              0,
              "#0d0887"
             ],
             [
              0.1111111111111111,
              "#46039f"
             ],
             [
              0.2222222222222222,
              "#7201a8"
             ],
             [
              0.3333333333333333,
              "#9c179e"
             ],
             [
              0.4444444444444444,
              "#bd3786"
             ],
             [
              0.5555555555555556,
              "#d8576b"
             ],
             [
              0.6666666666666666,
              "#ed7953"
             ],
             [
              0.7777777777777778,
              "#fb9f3a"
             ],
             [
              0.8888888888888888,
              "#fdca26"
             ],
             [
              1,
              "#f0f921"
             ]
            ],
            "type": "histogram2d"
           }
          ],
          "histogram2dcontour": [
           {
            "colorbar": {
             "outlinewidth": 0,
             "ticks": ""
            },
            "colorscale": [
             [
              0,
              "#0d0887"
             ],
             [
              0.1111111111111111,
              "#46039f"
             ],
             [
              0.2222222222222222,
              "#7201a8"
             ],
             [
              0.3333333333333333,
              "#9c179e"
             ],
             [
              0.4444444444444444,
              "#bd3786"
             ],
             [
              0.5555555555555556,
              "#d8576b"
             ],
             [
              0.6666666666666666,
              "#ed7953"
             ],
             [
              0.7777777777777778,
              "#fb9f3a"
             ],
             [
              0.8888888888888888,
              "#fdca26"
             ],
             [
              1,
              "#f0f921"
             ]
            ],
            "type": "histogram2dcontour"
           }
          ],
          "mesh3d": [
           {
            "colorbar": {
             "outlinewidth": 0,
             "ticks": ""
            },
            "type": "mesh3d"
           }
          ],
          "parcoords": [
           {
            "line": {
             "colorbar": {
              "outlinewidth": 0,
              "ticks": ""
             }
            },
            "type": "parcoords"
           }
          ],
          "pie": [
           {
            "automargin": true,
            "type": "pie"
           }
          ],
          "scatter": [
           {
            "marker": {
             "colorbar": {
              "outlinewidth": 0,
              "ticks": ""
             }
            },
            "type": "scatter"
           }
          ],
          "scatter3d": [
           {
            "line": {
             "colorbar": {
              "outlinewidth": 0,
              "ticks": ""
             }
            },
            "marker": {
             "colorbar": {
              "outlinewidth": 0,
              "ticks": ""
             }
            },
            "type": "scatter3d"
           }
          ],
          "scattercarpet": [
           {
            "marker": {
             "colorbar": {
              "outlinewidth": 0,
              "ticks": ""
             }
            },
            "type": "scattercarpet"
           }
          ],
          "scattergeo": [
           {
            "marker": {
             "colorbar": {
              "outlinewidth": 0,
              "ticks": ""
             }
            },
            "type": "scattergeo"
           }
          ],
          "scattergl": [
           {
            "marker": {
             "colorbar": {
              "outlinewidth": 0,
              "ticks": ""
             }
            },
            "type": "scattergl"
           }
          ],
          "scattermapbox": [
           {
            "marker": {
             "colorbar": {
              "outlinewidth": 0,
              "ticks": ""
             }
            },
            "type": "scattermapbox"
           }
          ],
          "scatterpolar": [
           {
            "marker": {
             "colorbar": {
              "outlinewidth": 0,
              "ticks": ""
             }
            },
            "type": "scatterpolar"
           }
          ],
          "scatterpolargl": [
           {
            "marker": {
             "colorbar": {
              "outlinewidth": 0,
              "ticks": ""
             }
            },
            "type": "scatterpolargl"
           }
          ],
          "scatterternary": [
           {
            "marker": {
             "colorbar": {
              "outlinewidth": 0,
              "ticks": ""
             }
            },
            "type": "scatterternary"
           }
          ],
          "surface": [
           {
            "colorbar": {
             "outlinewidth": 0,
             "ticks": ""
            },
            "colorscale": [
             [
              0,
              "#0d0887"
             ],
             [
              0.1111111111111111,
              "#46039f"
             ],
             [
              0.2222222222222222,
              "#7201a8"
             ],
             [
              0.3333333333333333,
              "#9c179e"
             ],
             [
              0.4444444444444444,
              "#bd3786"
             ],
             [
              0.5555555555555556,
              "#d8576b"
             ],
             [
              0.6666666666666666,
              "#ed7953"
             ],
             [
              0.7777777777777778,
              "#fb9f3a"
             ],
             [
              0.8888888888888888,
              "#fdca26"
             ],
             [
              1,
              "#f0f921"
             ]
            ],
            "type": "surface"
           }
          ],
          "table": [
           {
            "cells": {
             "fill": {
              "color": "#EBF0F8"
             },
             "line": {
              "color": "white"
             }
            },
            "header": {
             "fill": {
              "color": "#C8D4E3"
             },
             "line": {
              "color": "white"
             }
            },
            "type": "table"
           }
          ]
         },
         "layout": {
          "annotationdefaults": {
           "arrowcolor": "#2a3f5f",
           "arrowhead": 0,
           "arrowwidth": 1
          },
          "coloraxis": {
           "colorbar": {
            "outlinewidth": 0,
            "ticks": ""
           }
          },
          "colorscale": {
           "diverging": [
            [
             0,
             "#8e0152"
            ],
            [
             0.1,
             "#c51b7d"
            ],
            [
             0.2,
             "#de77ae"
            ],
            [
             0.3,
             "#f1b6da"
            ],
            [
             0.4,
             "#fde0ef"
            ],
            [
             0.5,
             "#f7f7f7"
            ],
            [
             0.6,
             "#e6f5d0"
            ],
            [
             0.7,
             "#b8e186"
            ],
            [
             0.8,
             "#7fbc41"
            ],
            [
             0.9,
             "#4d9221"
            ],
            [
             1,
             "#276419"
            ]
           ],
           "sequential": [
            [
             0,
             "#0d0887"
            ],
            [
             0.1111111111111111,
             "#46039f"
            ],
            [
             0.2222222222222222,
             "#7201a8"
            ],
            [
             0.3333333333333333,
             "#9c179e"
            ],
            [
             0.4444444444444444,
             "#bd3786"
            ],
            [
             0.5555555555555556,
             "#d8576b"
            ],
            [
             0.6666666666666666,
             "#ed7953"
            ],
            [
             0.7777777777777778,
             "#fb9f3a"
            ],
            [
             0.8888888888888888,
             "#fdca26"
            ],
            [
             1,
             "#f0f921"
            ]
           ],
           "sequentialminus": [
            [
             0,
             "#0d0887"
            ],
            [
             0.1111111111111111,
             "#46039f"
            ],
            [
             0.2222222222222222,
             "#7201a8"
            ],
            [
             0.3333333333333333,
             "#9c179e"
            ],
            [
             0.4444444444444444,
             "#bd3786"
            ],
            [
             0.5555555555555556,
             "#d8576b"
            ],
            [
             0.6666666666666666,
             "#ed7953"
            ],
            [
             0.7777777777777778,
             "#fb9f3a"
            ],
            [
             0.8888888888888888,
             "#fdca26"
            ],
            [
             1,
             "#f0f921"
            ]
           ]
          },
          "colorway": [
           "#636efa",
           "#EF553B",
           "#00cc96",
           "#ab63fa",
           "#FFA15A",
           "#19d3f3",
           "#FF6692",
           "#B6E880",
           "#FF97FF",
           "#FECB52"
          ],
          "font": {
           "color": "#2a3f5f"
          },
          "geo": {
           "bgcolor": "white",
           "lakecolor": "white",
           "landcolor": "#E5ECF6",
           "showlakes": true,
           "showland": true,
           "subunitcolor": "white"
          },
          "hoverlabel": {
           "align": "left"
          },
          "hovermode": "closest",
          "mapbox": {
           "style": "light"
          },
          "paper_bgcolor": "white",
          "plot_bgcolor": "#E5ECF6",
          "polar": {
           "angularaxis": {
            "gridcolor": "white",
            "linecolor": "white",
            "ticks": ""
           },
           "bgcolor": "#E5ECF6",
           "radialaxis": {
            "gridcolor": "white",
            "linecolor": "white",
            "ticks": ""
           }
          },
          "scene": {
           "xaxis": {
            "backgroundcolor": "#E5ECF6",
            "gridcolor": "white",
            "gridwidth": 2,
            "linecolor": "white",
            "showbackground": true,
            "ticks": "",
            "zerolinecolor": "white"
           },
           "yaxis": {
            "backgroundcolor": "#E5ECF6",
            "gridcolor": "white",
            "gridwidth": 2,
            "linecolor": "white",
            "showbackground": true,
            "ticks": "",
            "zerolinecolor": "white"
           },
           "zaxis": {
            "backgroundcolor": "#E5ECF6",
            "gridcolor": "white",
            "gridwidth": 2,
            "linecolor": "white",
            "showbackground": true,
            "ticks": "",
            "zerolinecolor": "white"
           }
          },
          "shapedefaults": {
           "line": {
            "color": "#2a3f5f"
           }
          },
          "ternary": {
           "aaxis": {
            "gridcolor": "white",
            "linecolor": "white",
            "ticks": ""
           },
           "baxis": {
            "gridcolor": "white",
            "linecolor": "white",
            "ticks": ""
           },
           "bgcolor": "#E5ECF6",
           "caxis": {
            "gridcolor": "white",
            "linecolor": "white",
            "ticks": ""
           }
          },
          "title": {
           "x": 0.05
          },
          "xaxis": {
           "automargin": true,
           "gridcolor": "white",
           "linecolor": "white",
           "ticks": "",
           "title": {
            "standoff": 15
           },
           "zerolinecolor": "white",
           "zerolinewidth": 2
          },
          "yaxis": {
           "automargin": true,
           "gridcolor": "white",
           "linecolor": "white",
           "ticks": "",
           "title": {
            "standoff": 15
           },
           "zerolinecolor": "white",
           "zerolinewidth": 2
          }
         }
        },
        "title": {
         "font": {
          "color": "#4D5663"
         },
         "text": "Distribution or ratings"
        },
        "xaxis": {
         "gridcolor": "#E1E5ED",
         "showgrid": true,
         "tickfont": {
          "color": "#4D5663"
         },
         "title": {
          "font": {
           "color": "#4D5663"
          },
          "text": "rating"
         },
         "zerolinecolor": "#E1E5ED"
        },
        "yaxis": {
         "gridcolor": "#E1E5ED",
         "showgrid": true,
         "tickfont": {
          "color": "#4D5663"
         },
         "title": {
          "font": {
           "color": "#4D5663"
          },
          "text": "Count"
         },
         "zerolinecolor": "#E1E5ED"
        }
       }
      },
      "text/html": [
       "<div>                            <div id=\"a7d74766-85bc-4f9a-a2e8-15cf23b083fa\" class=\"plotly-graph-div\" style=\"height:525px; width:100%;\"></div>            <script type=\"text/javascript\">                require([\"plotly\"], function(Plotly) {                    window.PLOTLYENV=window.PLOTLYENV || {};\n",
       "                    window.PLOTLYENV.BASE_URL='https://plot.ly';                                    if (document.getElementById(\"a7d74766-85bc-4f9a-a2e8-15cf23b083fa\")) {                    Plotly.newPlot(                        \"a7d74766-85bc-4f9a-a2e8-15cf23b083fa\",                        [{\"histfunc\": \"count\", \"histnorm\": \"\", \"marker\": {\"color\": \"rgba(255, 153, 51, 1.0)\", \"line\": {\"color\": \"#4D5663\", \"width\": 1.3}}, \"name\": \"Stats_rating\", \"nbinsx\": 20, \"opacity\": 0.8, \"orientation\": \"v\", \"type\": \"histogram\", \"x\": [4.6, 4.6, 4.4, 4.6, 4.3, 4.6, null, null, null, 4.5, 3.9, 4.4, 4.6, 4.7, 4.5, 4.2, 4.3, 4.4, 0.0, 3.9, 4.2, 4.3, 5.0, 5.0, 4.2, 4.6, 4.6, 4.6, 4.4, 4.6, 4.3, 4.6, 4.5, 3.9, 4.4, 4.6, 4.7, 4.5, 4.2, 4.3, 4.4, 0.0, 3.9, 4.2, 4.3, 5.0, 5.0, 4.2, 4.6, 4.5, 4.5, 4.1, 4.3, 4.0, 3.9, 4.4, 4.5, 4.4, 3.4, 4.8, 3.9, 4.3, 3.6, 4.3, 4.1, 4.5, 4.4, 4.1, 4.3, 4.2, 4.5, 3.9, 4.1, 4.1, 3.6, 5.0, 4.4, 4.8, 5.0, 4.5, 3.6, 0.0, 4.2, 2.2, 3.9, 0.0, 3.0, 0.0, 0.0, 0.0, 3.8, 0.0, 3.5, 4.5, 4.2, 4.6, 4.4, 4.5, 4.4, 3.8, 4.7, 4.1, 4.0, 0.0, 4.8, 0.0, 4.5, 5.0, 3.7, 4.3, 0.0, 4.2, 0.0, 4.8, 4.3, 4.3, 3.6, 0.0, 3.7, 4.9, 3.7, 5.0, 3.5, 4.6, 4.0, 4.8, 4.0, 0.0, 4.1, 3.8, 4.9, 4.0, 4.3, 4.6, 4.2, 0.0, 5.0, 4.5, 3.8, 0.0, 4.1, 5.0, 4.7, 4.3, 0.0, 0.0, 3.0, 0.0, 4.3, 5.0, 0.0, 5.0, 5.0, 3.8, 4.4, 4.9, 3.7, 4.1]}, {\"histfunc\": \"count\", \"histnorm\": \"\", \"marker\": {\"color\": \"rgba(55, 128, 191, 1.0)\", \"line\": {\"color\": \"#4D5663\", \"width\": 1.3}}, \"name\": \"R_rating\", \"nbinsx\": 20, \"opacity\": 0.8, \"orientation\": \"v\", \"type\": \"histogram\", \"x\": [4.6, 4.5, 4.7, 4.4, 3.9, 4.4, 4.7, 3.8, 4.4, 4.7, 4.5, 4.7, 3.3, 4.4, 4.5, 4.3, 4.6, 4.5, 4.4, 3.8, 4.6, 4.2, 3.8, 3.6, 3.6, 4.1, 4.6, 4.5, 4.7, 4.4, 3.9, 4.4, 4.7, 4.5, 4.7, 3.3, 4.4, 4.5, 4.3, 4.6, 4.5, 4.4, 3.8, 4.6, 4.2, 3.8, 3.6, 3.6, 4.1, null, null, null, null, null, null, null, null, null, null, null, null, null, null, null, null, null, null, null, null, null, null, null, null, null, null, null, null, null, null, null, null, null, null, null, null, null, null, null, null, null, null, null, null, null, null, null, null, null, null, null, null, null, null, null, null, null, null, null, null, null, null, null, null, null, null, null, null, null, null, null, null, null, null, null, null, null, null, null, null, null, null, null, null, null, null, null, null, null, null, null, null, null, null, null, null, null, null, null, null, null, null, null, null, null, null, null, null, null]}],                        {\"barmode\": \"overlay\", \"legend\": {\"bgcolor\": \"#FFFFFF\", \"font\": {\"color\": \"#4D5663\"}}, \"paper_bgcolor\": \"#FFFFFF\", \"plot_bgcolor\": \"#FFFFFF\", \"template\": {\"data\": {\"bar\": [{\"error_x\": {\"color\": \"#2a3f5f\"}, \"error_y\": {\"color\": \"#2a3f5f\"}, \"marker\": {\"line\": {\"color\": \"#E5ECF6\", \"width\": 0.5}}, \"type\": \"bar\"}], \"barpolar\": [{\"marker\": {\"line\": {\"color\": \"#E5ECF6\", \"width\": 0.5}}, \"type\": \"barpolar\"}], \"carpet\": [{\"aaxis\": {\"endlinecolor\": \"#2a3f5f\", \"gridcolor\": \"white\", \"linecolor\": \"white\", \"minorgridcolor\": \"white\", \"startlinecolor\": \"#2a3f5f\"}, \"baxis\": {\"endlinecolor\": \"#2a3f5f\", \"gridcolor\": \"white\", \"linecolor\": \"white\", \"minorgridcolor\": \"white\", \"startlinecolor\": \"#2a3f5f\"}, \"type\": \"carpet\"}], \"choropleth\": [{\"colorbar\": {\"outlinewidth\": 0, \"ticks\": \"\"}, \"type\": \"choropleth\"}], \"contour\": [{\"colorbar\": {\"outlinewidth\": 0, \"ticks\": \"\"}, \"colorscale\": [[0.0, \"#0d0887\"], [0.1111111111111111, \"#46039f\"], [0.2222222222222222, \"#7201a8\"], [0.3333333333333333, \"#9c179e\"], [0.4444444444444444, \"#bd3786\"], [0.5555555555555556, \"#d8576b\"], [0.6666666666666666, \"#ed7953\"], [0.7777777777777778, \"#fb9f3a\"], [0.8888888888888888, \"#fdca26\"], [1.0, \"#f0f921\"]], \"type\": \"contour\"}], \"contourcarpet\": [{\"colorbar\": {\"outlinewidth\": 0, \"ticks\": \"\"}, \"type\": \"contourcarpet\"}], \"heatmap\": [{\"colorbar\": {\"outlinewidth\": 0, \"ticks\": \"\"}, \"colorscale\": [[0.0, \"#0d0887\"], [0.1111111111111111, \"#46039f\"], [0.2222222222222222, \"#7201a8\"], [0.3333333333333333, \"#9c179e\"], [0.4444444444444444, \"#bd3786\"], [0.5555555555555556, \"#d8576b\"], [0.6666666666666666, \"#ed7953\"], [0.7777777777777778, \"#fb9f3a\"], [0.8888888888888888, \"#fdca26\"], [1.0, \"#f0f921\"]], \"type\": \"heatmap\"}], \"heatmapgl\": [{\"colorbar\": {\"outlinewidth\": 0, \"ticks\": \"\"}, \"colorscale\": [[0.0, \"#0d0887\"], [0.1111111111111111, \"#46039f\"], [0.2222222222222222, \"#7201a8\"], [0.3333333333333333, \"#9c179e\"], [0.4444444444444444, \"#bd3786\"], [0.5555555555555556, \"#d8576b\"], [0.6666666666666666, \"#ed7953\"], [0.7777777777777778, \"#fb9f3a\"], [0.8888888888888888, \"#fdca26\"], [1.0, \"#f0f921\"]], \"type\": \"heatmapgl\"}], \"histogram\": [{\"marker\": {\"colorbar\": {\"outlinewidth\": 0, \"ticks\": \"\"}}, \"type\": \"histogram\"}], \"histogram2d\": [{\"colorbar\": {\"outlinewidth\": 0, \"ticks\": \"\"}, \"colorscale\": [[0.0, \"#0d0887\"], [0.1111111111111111, \"#46039f\"], [0.2222222222222222, \"#7201a8\"], [0.3333333333333333, \"#9c179e\"], [0.4444444444444444, \"#bd3786\"], [0.5555555555555556, \"#d8576b\"], [0.6666666666666666, \"#ed7953\"], [0.7777777777777778, \"#fb9f3a\"], [0.8888888888888888, \"#fdca26\"], [1.0, \"#f0f921\"]], \"type\": \"histogram2d\"}], \"histogram2dcontour\": [{\"colorbar\": {\"outlinewidth\": 0, \"ticks\": \"\"}, \"colorscale\": [[0.0, \"#0d0887\"], [0.1111111111111111, \"#46039f\"], [0.2222222222222222, \"#7201a8\"], [0.3333333333333333, \"#9c179e\"], [0.4444444444444444, \"#bd3786\"], [0.5555555555555556, \"#d8576b\"], [0.6666666666666666, \"#ed7953\"], [0.7777777777777778, \"#fb9f3a\"], [0.8888888888888888, \"#fdca26\"], [1.0, \"#f0f921\"]], \"type\": \"histogram2dcontour\"}], \"mesh3d\": [{\"colorbar\": {\"outlinewidth\": 0, \"ticks\": \"\"}, \"type\": \"mesh3d\"}], \"parcoords\": [{\"line\": {\"colorbar\": {\"outlinewidth\": 0, \"ticks\": \"\"}}, \"type\": \"parcoords\"}], \"pie\": [{\"automargin\": true, \"type\": \"pie\"}], \"scatter\": [{\"marker\": {\"colorbar\": {\"outlinewidth\": 0, \"ticks\": \"\"}}, \"type\": \"scatter\"}], \"scatter3d\": [{\"line\": {\"colorbar\": {\"outlinewidth\": 0, \"ticks\": \"\"}}, \"marker\": {\"colorbar\": {\"outlinewidth\": 0, \"ticks\": \"\"}}, \"type\": \"scatter3d\"}], \"scattercarpet\": [{\"marker\": {\"colorbar\": {\"outlinewidth\": 0, \"ticks\": \"\"}}, \"type\": \"scattercarpet\"}], \"scattergeo\": [{\"marker\": {\"colorbar\": {\"outlinewidth\": 0, \"ticks\": \"\"}}, \"type\": \"scattergeo\"}], \"scattergl\": [{\"marker\": {\"colorbar\": {\"outlinewidth\": 0, \"ticks\": \"\"}}, \"type\": \"scattergl\"}], \"scattermapbox\": [{\"marker\": {\"colorbar\": {\"outlinewidth\": 0, \"ticks\": \"\"}}, \"type\": \"scattermapbox\"}], \"scatterpolar\": [{\"marker\": {\"colorbar\": {\"outlinewidth\": 0, \"ticks\": \"\"}}, \"type\": \"scatterpolar\"}], \"scatterpolargl\": [{\"marker\": {\"colorbar\": {\"outlinewidth\": 0, \"ticks\": \"\"}}, \"type\": \"scatterpolargl\"}], \"scatterternary\": [{\"marker\": {\"colorbar\": {\"outlinewidth\": 0, \"ticks\": \"\"}}, \"type\": \"scatterternary\"}], \"surface\": [{\"colorbar\": {\"outlinewidth\": 0, \"ticks\": \"\"}, \"colorscale\": [[0.0, \"#0d0887\"], [0.1111111111111111, \"#46039f\"], [0.2222222222222222, \"#7201a8\"], [0.3333333333333333, \"#9c179e\"], [0.4444444444444444, \"#bd3786\"], [0.5555555555555556, \"#d8576b\"], [0.6666666666666666, \"#ed7953\"], [0.7777777777777778, \"#fb9f3a\"], [0.8888888888888888, \"#fdca26\"], [1.0, \"#f0f921\"]], \"type\": \"surface\"}], \"table\": [{\"cells\": {\"fill\": {\"color\": \"#EBF0F8\"}, \"line\": {\"color\": \"white\"}}, \"header\": {\"fill\": {\"color\": \"#C8D4E3\"}, \"line\": {\"color\": \"white\"}}, \"type\": \"table\"}]}, \"layout\": {\"annotationdefaults\": {\"arrowcolor\": \"#2a3f5f\", \"arrowhead\": 0, \"arrowwidth\": 1}, \"coloraxis\": {\"colorbar\": {\"outlinewidth\": 0, \"ticks\": \"\"}}, \"colorscale\": {\"diverging\": [[0, \"#8e0152\"], [0.1, \"#c51b7d\"], [0.2, \"#de77ae\"], [0.3, \"#f1b6da\"], [0.4, \"#fde0ef\"], [0.5, \"#f7f7f7\"], [0.6, \"#e6f5d0\"], [0.7, \"#b8e186\"], [0.8, \"#7fbc41\"], [0.9, \"#4d9221\"], [1, \"#276419\"]], \"sequential\": [[0.0, \"#0d0887\"], [0.1111111111111111, \"#46039f\"], [0.2222222222222222, \"#7201a8\"], [0.3333333333333333, \"#9c179e\"], [0.4444444444444444, \"#bd3786\"], [0.5555555555555556, \"#d8576b\"], [0.6666666666666666, \"#ed7953\"], [0.7777777777777778, \"#fb9f3a\"], [0.8888888888888888, \"#fdca26\"], [1.0, \"#f0f921\"]], \"sequentialminus\": [[0.0, \"#0d0887\"], [0.1111111111111111, \"#46039f\"], [0.2222222222222222, \"#7201a8\"], [0.3333333333333333, \"#9c179e\"], [0.4444444444444444, \"#bd3786\"], [0.5555555555555556, \"#d8576b\"], [0.6666666666666666, \"#ed7953\"], [0.7777777777777778, \"#fb9f3a\"], [0.8888888888888888, \"#fdca26\"], [1.0, \"#f0f921\"]]}, \"colorway\": [\"#636efa\", \"#EF553B\", \"#00cc96\", \"#ab63fa\", \"#FFA15A\", \"#19d3f3\", \"#FF6692\", \"#B6E880\", \"#FF97FF\", \"#FECB52\"], \"font\": {\"color\": \"#2a3f5f\"}, \"geo\": {\"bgcolor\": \"white\", \"lakecolor\": \"white\", \"landcolor\": \"#E5ECF6\", \"showlakes\": true, \"showland\": true, \"subunitcolor\": \"white\"}, \"hoverlabel\": {\"align\": \"left\"}, \"hovermode\": \"closest\", \"mapbox\": {\"style\": \"light\"}, \"paper_bgcolor\": \"white\", \"plot_bgcolor\": \"#E5ECF6\", \"polar\": {\"angularaxis\": {\"gridcolor\": \"white\", \"linecolor\": \"white\", \"ticks\": \"\"}, \"bgcolor\": \"#E5ECF6\", \"radialaxis\": {\"gridcolor\": \"white\", \"linecolor\": \"white\", \"ticks\": \"\"}}, \"scene\": {\"xaxis\": {\"backgroundcolor\": \"#E5ECF6\", \"gridcolor\": \"white\", \"gridwidth\": 2, \"linecolor\": \"white\", \"showbackground\": true, \"ticks\": \"\", \"zerolinecolor\": \"white\"}, \"yaxis\": {\"backgroundcolor\": \"#E5ECF6\", \"gridcolor\": \"white\", \"gridwidth\": 2, \"linecolor\": \"white\", \"showbackground\": true, \"ticks\": \"\", \"zerolinecolor\": \"white\"}, \"zaxis\": {\"backgroundcolor\": \"#E5ECF6\", \"gridcolor\": \"white\", \"gridwidth\": 2, \"linecolor\": \"white\", \"showbackground\": true, \"ticks\": \"\", \"zerolinecolor\": \"white\"}}, \"shapedefaults\": {\"line\": {\"color\": \"#2a3f5f\"}}, \"ternary\": {\"aaxis\": {\"gridcolor\": \"white\", \"linecolor\": \"white\", \"ticks\": \"\"}, \"baxis\": {\"gridcolor\": \"white\", \"linecolor\": \"white\", \"ticks\": \"\"}, \"bgcolor\": \"#E5ECF6\", \"caxis\": {\"gridcolor\": \"white\", \"linecolor\": \"white\", \"ticks\": \"\"}}, \"title\": {\"x\": 0.05}, \"xaxis\": {\"automargin\": true, \"gridcolor\": \"white\", \"linecolor\": \"white\", \"ticks\": \"\", \"title\": {\"standoff\": 15}, \"zerolinecolor\": \"white\", \"zerolinewidth\": 2}, \"yaxis\": {\"automargin\": true, \"gridcolor\": \"white\", \"linecolor\": \"white\", \"ticks\": \"\", \"title\": {\"standoff\": 15}, \"zerolinecolor\": \"white\", \"zerolinewidth\": 2}}}, \"title\": {\"font\": {\"color\": \"#4D5663\"}, \"text\": \"Distribution or ratings\"}, \"xaxis\": {\"gridcolor\": \"#E1E5ED\", \"showgrid\": true, \"tickfont\": {\"color\": \"#4D5663\"}, \"title\": {\"font\": {\"color\": \"#4D5663\"}, \"text\": \"rating\"}, \"zerolinecolor\": \"#E1E5ED\"}, \"yaxis\": {\"gridcolor\": \"#E1E5ED\", \"showgrid\": true, \"tickfont\": {\"color\": \"#4D5663\"}, \"title\": {\"font\": {\"color\": \"#4D5663\"}, \"text\": \"Count\"}, \"zerolinecolor\": \"#E1E5ED\"}},                        {\"showLink\": true, \"linkText\": \"Export to plot.ly\", \"plotlyServerURL\": \"https://plot.ly\", \"responsive\": true}                    ).then(function(){\n",
       "                            \n",
       "var gd = document.getElementById('a7d74766-85bc-4f9a-a2e8-15cf23b083fa');\n",
       "var x = new MutationObserver(function (mutations, observer) {{\n",
       "        var display = window.getComputedStyle(gd).display;\n",
       "        if (!display || display === 'none') {{\n",
       "            console.log([gd, 'removed!']);\n",
       "            Plotly.purge(gd);\n",
       "            observer.disconnect();\n",
       "        }}\n",
       "}});\n",
       "\n",
       "// Listen for the removal of the full notebook cells\n",
       "var notebookContainer = gd.closest('#notebook-container');\n",
       "if (notebookContainer) {{\n",
       "    x.observe(notebookContainer, {childList: true});\n",
       "}}\n",
       "\n",
       "// Listen for the clearing of the current output cell\n",
       "var outputEl = gd.closest('.output');\n",
       "if (outputEl) {{\n",
       "    x.observe(outputEl, {childList: true});\n",
       "}}\n",
       "\n",
       "                        })                };                });            </script>        </div>"
      ]
     },
     "metadata": {},
     "output_type": "display_data"
    }
   ],
   "source": [
    "Stat_R_Udemy[\"Stats_rating\"]=Stat_R_Udemy[Stat_R_Udemy[\"topic\"]==\"Statistics\"][\"rating\"]\n",
    "Stat_R_Udemy[\"R_rating\"]=Stat_R_Udemy[Stat_R_Udemy[\"topic\"]==\"R_programming\"][\"rating\"]\n",
    "Stat_R_Udemy[[\"Stats_rating\",\"R_rating\"]].iplot(kind=\"histogram\", bins=20, theme=\"white\", title=\"Distribution or ratings\",\n",
    "         xTitle='rating', yTitle='Count')"
   ]
  },
  {
   "cell_type": "code",
   "execution_count": null,
   "metadata": {},
   "outputs": [],
   "source": []
  },
  {
   "cell_type": "code",
   "execution_count": null,
   "metadata": {},
   "outputs": [],
   "source": []
  },
  {
   "cell_type": "code",
   "execution_count": null,
   "metadata": {},
   "outputs": [],
   "source": []
  }
 ],
 "metadata": {
  "kernelspec": {
   "display_name": "Python 3",
   "language": "python",
   "name": "python3"
  },
  "language_info": {
   "codemirror_mode": {
    "name": "ipython",
    "version": 3
   },
   "file_extension": ".py",
   "mimetype": "text/x-python",
   "name": "python",
   "nbconvert_exporter": "python",
   "pygments_lexer": "ipython3",
   "version": "3.7.4"
  }
 },
 "nbformat": 4,
 "nbformat_minor": 2
}
