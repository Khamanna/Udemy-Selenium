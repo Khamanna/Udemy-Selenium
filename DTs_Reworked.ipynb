{
 "cells": [
  {
   "cell_type": "code",
   "execution_count": 1,
   "metadata": {},
   "outputs": [],
   "source": [
    "import pandas as pd\n",
    "\n",
    "r_data = pd.read_csv('UdemyR.csv')"
   ]
  },
  {
   "cell_type": "code",
   "execution_count": 3,
   "metadata": {},
   "outputs": [
    {
     "data": {
      "text/html": [
       "<div>\n",
       "<style scoped>\n",
       "    .dataframe tbody tr th:only-of-type {\n",
       "        vertical-align: middle;\n",
       "    }\n",
       "\n",
       "    .dataframe tbody tr th {\n",
       "        vertical-align: top;\n",
       "    }\n",
       "\n",
       "    .dataframe thead th {\n",
       "        text-align: right;\n",
       "    }\n",
       "</style>\n",
       "<table border=\"1\" class=\"dataframe\">\n",
       "  <thead>\n",
       "    <tr style=\"text-align: right;\">\n",
       "      <th></th>\n",
       "      <th>courses</th>\n",
       "      <th>instructor</th>\n",
       "      <th>price</th>\n",
       "      <th>rating</th>\n",
       "      <th>num_voters</th>\n",
       "    </tr>\n",
       "  </thead>\n",
       "  <tbody>\n",
       "    <tr>\n",
       "      <td>0</td>\n",
       "      <td>Become a Probability &amp; Statistics Master</td>\n",
       "      <td>Krista King</td>\n",
       "      <td>30.99</td>\n",
       "      <td>4.6</td>\n",
       "      <td>(5669)</td>\n",
       "    </tr>\n",
       "    <tr>\n",
       "      <td>1</td>\n",
       "      <td>Workshop in Probability and Statistics</td>\n",
       "      <td>George Ingersoll</td>\n",
       "      <td>12.99</td>\n",
       "      <td>4.6</td>\n",
       "      <td>(3619)</td>\n",
       "    </tr>\n",
       "    <tr>\n",
       "      <td>2</td>\n",
       "      <td>Probability and Statistics for Business and Da...</td>\n",
       "      <td>Jose Portilla</td>\n",
       "      <td>12.99</td>\n",
       "      <td>4.4</td>\n",
       "      <td>(3471)</td>\n",
       "    </tr>\n",
       "  </tbody>\n",
       "</table>\n",
       "</div>"
      ],
      "text/plain": [
       "                                             courses        instructor  \\\n",
       "0           Become a Probability & Statistics Master       Krista King   \n",
       "1             Workshop in Probability and Statistics  George Ingersoll   \n",
       "2  Probability and Statistics for Business and Da...     Jose Portilla   \n",
       "\n",
       "    price   rating  num_voters   \n",
       "0   30.99      4.6       (5669)  \n",
       "1   12.99      4.6       (3619)  \n",
       "2   12.99      4.4       (3471)  "
      ]
     },
     "execution_count": 3,
     "metadata": {},
     "output_type": "execute_result"
    }
   ],
   "source": [
    "stat_data = pd.read_csv('UdemyStats.csv')\n",
    "stat_data.head(3)"
   ]
  },
  {
   "cell_type": "code",
   "execution_count": null,
   "metadata": {},
   "outputs": [],
   "source": []
  }
 ],
 "metadata": {
  "kernelspec": {
   "display_name": "Python 3",
   "language": "python",
   "name": "python3"
  },
  "language_info": {
   "codemirror_mode": {
    "name": "ipython",
    "version": 3
   },
   "file_extension": ".py",
   "mimetype": "text/x-python",
   "name": "python",
   "nbconvert_exporter": "python",
   "pygments_lexer": "ipython3",
   "version": "3.7.4"
  }
 },
 "nbformat": 4,
 "nbformat_minor": 2
}
